{
 "cells": [
  {
   "cell_type": "markdown",
   "metadata": {},
   "source": [
    "## UNIVERSIDADE FEDERAL DO RIO GRANDE DO NORTE\n",
    "## Programa de Pós Graduação em Engenharia Elétrica e de Computação - PPGEEC\n",
    "## DISCIPLINA: REDES NEURAIS\n",
    "## RESOLUÇÃO DA Iª LISTA DE EXERCÍCIOS - 2019.1\n",
    "\n",
    "### Bruno\n",
    "### Jéssika Cristina da Silva\n",
    "### Victor"
   ]
  },
  {
   "cell_type": "markdown",
   "metadata": {},
   "source": [
    "## Questão 1-)"
   ]
  },
  {
   "cell_type": "markdown",
   "metadata": {},
   "source": [
    "### i) Mostre que $\\varphi'(v) = a\\varphi(v)[1-\\varphi(v)]$ para a função sigmóide.\n",
    "\n",
    "#### Resolução:\n",
    "\n",
    "$\\varphi(v) = \\frac{1}{1+exp(-av)}$. Então, $\\varphi'(v) = \\frac{d\\varphi(v)}{dv} = \\frac{d\\left( \\frac{1}{1+exp(-av)} \\right) }{dv}$.\n",
    "\n",
    "Fazendo $u = 1+exp(-av)$ e $p = -av$, aplicamos a regra da cadeia, obtendo-se:\n",
    "$\\varphi'(v) = \\frac{d\\varphi}{du}\\cdot\\frac{du}{dp}\\cdot\\frac{dp}{dv}$, mas\n",
    "\n",
    "$\\frac{d\\varphi}{du} = \\frac{d(\\frac{1}{u})}{du} = -\\frac{1}{u^ 2} = -\\frac{1}{(1+exp(-av))^ 2}$\n",
    "\n",
    " $\\frac{du}{dp} = \\frac{d(1+exp(p))}{dp} = exp(p) = exp(-av)$\n",
    "\n",
    " $\\frac{dp}{dv} = \\frac{d(-av)}{dv} = -a$\n",
    "\n",
    " Assim,\n",
    "\n",
    " $\\frac{d\\varphi(v)}{dv} = \\left( -\\frac{1}{(1+exp(-av))^ 2} \\right) \\cdot(exp(-av))\\cdot(-a) = \\frac{a}{(1+exp(-av))}\\cdot\\frac{exp(-av)}{(1+exp(-av))}$\n",
    "\n",
    " Manipulando-se a equação para atingir a forma desejada, temos:\n",
    "\n",
    " $\\left( \\frac{a}{(1+exp(-av))}\\right)\\cdot\\left(\\frac{1+exp(-av)-1}{(1+exp(-av))}\\right) =$\n",
    " $=\\left( \\frac{a}{(1+exp(-av))} \\right)\\cdot\\left(\\frac{(1+exp(-av))}{(1+exp(-av))}-\\frac{1}{(1+exp(-av))}\\right)=$\n",
    " $=a\\cdot\\left(\\frac{1}{(1+exp(-av))}\\right)\\cdot\\left(\\frac{(1+exp(-av))}{(1+exp(-av))}-\\frac{1}{(1+exp(-av))}\\right)=$\n",
    " **$=a\\cdot\\varphi(v)\\cdot[1-\\varphi(v)]$**"
   ]
  },
  {
   "cell_type": "markdown",
   "metadata": {},
   "source": [
    "### ii) Mostre que $\\varphi'(v)=\\frac{d\\varphi(v)}{dv}=\\frac{a}{2}[1-\\varphi^2(v)]$ para a função tangente sigmóide.\n",
    "\n",
    "#### Resolução:\n",
    "\n",
    " $\\varphi(v)=\\frac{1-exp(-av)}{1+exp(-av)} = \\tanh\\left(\\frac{av}{2}\\right)$. Então, $\\varphi'(v) = \\frac{d\\varphi(v)}{dv} = \\frac{d\\left(\\frac{1-exp(-av)}{1+exp(-av)}\\right)}{dv}$.\n",
    "\n",
    " Aplicando-se a regra do quosciente, tem-se:\n",
    " $ \\frac{d\\left(\\frac{1-exp(-av)}{1+exp(-av)}\\right)}{dv}=\\frac{(1+exp(-av))\\cdot\\left(\\frac{d(1-exp(-av))}{dv}\\right)-(1-exp(-av))\\cdot\\left(\\frac{d(1+exp(-av))}{dv}\\right)}{(1+exp(-av))^2}$, mas\n",
    "\n",
    " $\\frac{d(1-exp(-av))}{dv}$, fazendo $u=-av$ e aplicando-se a regra da cadeia, será:\n",
    " $\\frac{d(1-exp(u))}{du}\\cdot\\frac{d(-av)}{dv}=-exp(-av)\\cdot(-a) = a\\cdot exp(-av)$ e, aplicando-se a mesma regra,\n",
    "  $\\frac{d(1+exp(-av))}{dv}=\\frac{d(1+exp(u))}{du}\\cdot\\frac{d(-av)}{dv}=-a\\cdot exp(-av)$. Então,\n",
    "\n",
    " $ \\frac{d\\left(\\frac{1-exp(-av)}{1+exp(-av)}\\right)}{dv}=\\frac{(1+exp(-av))\\cdot(a\\cdot exp(-av))-(1-exp(-av))\\cdot(-a\\cdot exp(-av))}{(1+exp(-av))^2}=$\n",
    "\n",
    " $a\\cdot exp(-av)\\frac{[(1+exp(-av))+(1-exp(-av))]}{(1+exp(-av))^2}=\\frac{2a\\cdot exp(-av)}{(1+exp(-av))^2}$.\n",
    "\n",
    " Manipulando-se a equação para se obter a forma desejada, tem-se:\n",
    "\n",
    " $\\frac{2}{2} \\cdot \\frac{2a\\cdot exp(-av)}{(1+exp(-av))^2}=\\frac{4a\\cdot exp(-av)}{2(1+exp(-av))^2}$, mas\n",
    "\n",
    " $4\\cdot exp(-av) = (1+exp(-av))^2 - (1-exp(-av))^2$. Então, tem-se\n",
    "\n",
    " $\\frac{a}{2}\\cdot\\frac{ (1+exp(-av))^2 - (1-exp(-av))^2}{(1+exp(-av))^2}=$\n",
    "$=\\frac{a}{2}\\cdot\\left[\\frac{ (1+exp(-av))^2}{(1+exp(-av))^2} - \\frac{(1-exp(-av))^2}{(1+exp(-av))^2}\\right]=\\frac{a}{2}\\cdot[1-\\varphi^2(v)]$"
   ]
  },
  {
   "cell_type": "markdown",
   "metadata": {},
   "source": [
    "### iii) Faça uma análise comparativa de cada uma destas funções\n",
    "\n",
    " A função de ativação sigmóide logística, dada por $\\varphi(v) = \\frac{1}{1+exp(-av)}$,  resulta num sinal não linear com valores na faixa de $0 \\leq \\varphi(v) \\leq 1$. Com relação a derivada dessa função, obtida no item \" i)\", pode-se observar que atinge seu valor máximo em $\\varphi(v) = 0,5$ e seu valor mínimo em $\\varphi(v) = 0$ ou $\\varphi(v) = 1$.\n",
    " \n",
    " Pela regra delta, percebe-se que a variação dos pesos sinápticos de uma rede neural que utiliza a função de ativação sigmóide logística é proporcional a essa derivada, de modo que a maior variação para o ajuste dos pesos se dá quando o sinal atinge sua metade, o que, de acordo com Rumelhart (appud Haykin, 1999) é uma característica que contribui para a manutanção da estabilidade quando do aprendizado baseado no algoritmo backpropagation.\n",
    " \n",
    " Por outro lado, essa função satura na maior parte de seu domínio, resultando numa derivada que tende a zero, o que dificulta o treinamento da rede pelo fato de desvanecer o gradiente nessas regiões. Além disso, na medida que a quantidade de camadas ocultas da rede aumenta, essa característica de a derivada ser sempre menor que um, também contribui para desvanecer o resultado da multiplicação na aplicação da regra da cadeia, durante a derivação, agravando o problema do desvanecimento do gradiente. Por isso, sua aplicação em unidade ocultas é desencorajada. Entretanto, encontra aplicação para neurônios na camada saída, empregando-se uma função custo apropriada, como também em casos específicos que podem exigir uma não linearidade com forma sigmoidal. (ALVES, 2017; GODFELLOW et. al., 2016; GLOROT e BENGIO, 2010).\n",
    "\n",
    "A seguir, é apresentado um código em linguagem python, para a geração das curvas da função sigmóide logística e de sua derivada, onde pode-se vizualizar algumas das características citadas nos comentários anteriores."
   ]
  },
  {
   "cell_type": "code",
   "execution_count": 2,
   "metadata": {},
   "outputs": [
    {
     "data": {
      "image/png": "[encoded data removed]",
      "text/plain": [
       "<Figure size 432x288 with 1 Axes>"
      ]
     },
     "metadata": {
      "needs_background": "light"
     },
     "output_type": "display_data"
    }
   ],
   "source": [
    "import numpy as np\n",
    "from matplotlib import pyplot as plt\n",
    "\n",
    "a = 1\n",
    "\n",
    "def sigmoid(v):\n",
    "    #Função de ativação sigmoide logística\n",
    "    return 1/(1+np.exp(-a*v))\n",
    "  \n",
    "def dsigmoid(v):\n",
    "    #Derivada da função de ativação sigmóide logística\n",
    "    return a*sigmoid(v)*(1-sigmoid(v))\n",
    "\n",
    "testInput = np.arange(-10,10, 0.01)\n",
    "plt.plot(testInput, sigmoid(testInput), linewidth=2, label='Sigmóide Logística')\n",
    "plt.plot(testInput, dsigmoid(testInput), linewidth=2, label='Derivada')\n",
    "plt.legend(loc='best')\n",
    "plt.grid(1)"
   ]
  },
  {
   "cell_type": "markdown",
   "metadata": {},
   "source": [
    " Com relação à função tangente sigmóide, definida por $\\varphi(v) = \\frac{1-exp(-av)}{1+exp(-av)} = \\tanh(\\frac{av}{2})$, percebe-se que ela tem a forma da função logística sigmóide reescalonada e transladada, resultando numa não linearidade com valores na faixa $-1 \\leq \\varphi(v) \\leq 1$. Nesse sentido, essa função tem maior semelhança com a função identidade ($f(x) = x$), uma vez que $\\varphi(0) = 0$. Com isso, a função tangente sigmóide não sofre com o mesmo tipo de comportamento de saturação observado para a função logística (GLOROT; BENGIO, 2010). Esse comportamento simétrico com relação ao ponto zero, que caracteriza sua maior semelhança com a função identidade, faz com que o treinamento de uma rede de múltiplas camadas se assemelhe ao treinamento de um modelo linear enquanto o potencial de ativação for mantido pequeno (em torno do zero), o que facilita o treinamento da rede (GODFELLOW et. al., 2016).\n",
    "Apesar de também apresentar regiões de saturação para a maior parte do seu domínio, a derivada da função tangente sigmóide apresenta valores maiores que a sigmóide logística. Isso diminui o impacto quanto ao problema do desvanecimento do gradiente quando comparado com a função logística (ALVES, 2017).\n",
    "A seguir, é apresentado um código em linguagem python, para a geração das curvas da função tangente sigmóide e de sua derivada,  onde pode-se vizualizar algumas das características supramencionadas."
   ]
  },
  {
   "cell_type": "code",
   "execution_count": 3,
   "metadata": {},
   "outputs": [
    {
     "data": {
      "image/png": "[encoded data removed]",
      "text/plain": [
       "<Figure size 432x288 with 1 Axes>"
      ]
     },
     "metadata": {
      "needs_background": "light"
     },
     "output_type": "display_data"
    }
   ],
   "source": [
    "import numpy as np\n",
    "from matplotlib import pyplot as plt\n",
    "\n",
    "a = 1\n",
    "\n",
    "def tanh(v):\n",
    "    #Função de ativação tangente sigmoide\n",
    "    #    return 2*sigmoid(2*(a*v/2))-1\n",
    "    return (1-np.exp(-a*v))/(1+np.exp(-a*v))\n",
    "\n",
    "def dtanh(v):\n",
    "    #Derivada da função de ativação tangente hiperbólica\n",
    "    return (a/2)*(1-(tanh(a*v/2))**2)\n",
    "  \n",
    "testInput = np.arange(-10,10, 0.01)\n",
    "plt.plot(testInput, tanh(testInput), linewidth=2, label='Tangente Sigmóide')\n",
    "plt.plot(testInput, dtanh(testInput), linewidth=2, label='Derivada')\n",
    "plt.legend(loc='best')\n",
    "plt.grid(1)"
   ]
  },
  {
   "cell_type": "markdown",
   "metadata": {},
   "source": [
    " Já a função linear retificada, dada por $\\varphi(v)=max(0,v)$, por sua semelhança com modelos lineares, tornam o processo de otimização mais fácil. Essa função muito se assemelha à função identidade, diferindo somente no fato de que sua saída é zero para metade do seu domínio, quando $v < 0$. Isso faz com que as derivadas tenham grande magnitude enquanto a unidade estiver ativa. Além disso, os valores da derivada são estáveis ao longo do domínio. Apesar de sua deriviada não estar definida no ponto $v = 0$, pode-se considerá-la como sendo $0$ ou $1$ nesse ponto. Nota-se ainda que, a derivada de segunda ordem dessa função é $0$ para quase todo seu domínio, sendo mais útil para o aprendizado da rede do que funções que introduzem efeitos de 2ª ordem (ALVES, 2017).\n",
    "\n",
    " A seguir, é apresentado um código em linguagem python, para a geração das curvas da função linear retificada e de sua derivada, onde podem ser observadas algumas das características supracitadas. Nesse caso, a derivada da função para $v=0$ foi definida com o valor $0$."
   ]
  },
  {
   "cell_type": "code",
   "execution_count": 4,
   "metadata": {},
   "outputs": [
    {
     "data": {
      "image/png": "[encoded data removed]",
      "text/plain": [
       "<Figure size 432x288 with 1 Axes>"
      ]
     },
     "metadata": {
      "needs_background": "light"
     },
     "output_type": "display_data"
    }
   ],
   "source": [
    "import numpy as np\n",
    "from matplotlib import pyplot as plt\n",
    "\n",
    "a = 2\n",
    "\n",
    "def relu(v):\n",
    "    #Função de ativação linear retificada\n",
    "    return np.maximum(0,v)\n",
    "\n",
    "def drelu(v):\n",
    "    #Derivada da função de ativação linear retificada\n",
    "    return (np.zeros_like(v) <= v)\n",
    "  \n",
    "testInput = np.arange(-10,10, 0.01)\n",
    "plt.plot(testInput, relu(testInput), linewidth=2, label='Linear Retificada')\n",
    "plt.plot(testInput, drelu(testInput), linewidth=2, label='Derivada')\n",
    "plt.legend(loc='best')\n",
    "#plt.ylim(-1,5)\n",
    "plt.grid(1)"
   ]
  },
  {
   "cell_type": "markdown",
   "metadata": {},
   "source": [
    " Uma desvantagem da unidade linear retificada é o fato de que ela pode não ser ativada já em sua inicialização para uma parte das entradas do conjunto de treinamento. Assim, para métodos baseados no gradiente, esse tipo de unidade pode não conseguir aprender exemplos para os quais sua ativação seja zero, fazendo com que certas regiões da rede tornem-se passivas, como gradiente persistindo em $0$, o que é conhecido como o problema da morte de unidades ReLU. Por outro lado, pode-se empregar boas práticas para que as unidades linearmente retificadas estejam inicialmente ativas para a maioria das entradas no conjunto de treinamento, permanecendo ativas ao longo do processo de aorendizado (GODFELLOW, et. al 2016)."
   ]
  },
  {
   "cell_type": "markdown",
   "metadata": {},
   "source": [
    "### iv) Considerando que o potencial de ativação seja dado por $v = {\\bf w^ t x} = {\\bf x^ t w}$, sendo $\\bf x$ vetor de entrada e $\\bf w$ os pesos sinépticos do modelo do neurônio. Calcule para cada modelo e função de ativação a derivada $\\frac{d\\varphi(v)}{d \\bf w}$.\n",
    "\n",
    " #### Resolução:\n",
    "\n",
    " Considerando $v = {\\bf w^ t x} = {\\bf x^ t w}$, temos que $v = \\sum_{i=0}^{N} w_i x_i$, onde N é a quantidade de entradas. Assim, uma vez que $\\frac{dv}{d \\bf w } = \\frac{d({\\bf w}^ t {\\bf x})}{d \\bf w} = {\\bf x}$, tem-se que:\n",
    "\n",
    " Para a função de ativação sigmóide logística:\n",
    " $\\frac{d\\varphi(v)}{d\\bf w} = \\frac{d\\varphi(v)}{dv} \\cdot \\frac{dv}{d \\bf w } =$. \n",
    "$=a \\sum_{i=0}^{N} \\left[ \\frac{exp(-a(w_i x_i))}{(1+exp(-a(w_i x_i)))^ 2}x_i \\right] $\n",
    "\n",
    " Para a função de ativação tangente sigmóide:\n",
    " $\\frac{d\\varphi(v)}{d\\bf w} = \\frac{d\\varphi(v)}{dv} \\cdot \\frac{dv}{d \\bf w } =$\n",
    "$=2a \\sum_{i=0}^{N}\\left[ \\frac{exp(-a(w_i x_i))}{(1+exp(-a(w_i x_i)))^ 2}x_i \\right] $\n",
    "\n",
    " A função linear retificada não tem derivada definida para $\\varphi(0)$. Mas, pode-se considerar $\\varphi'(0) = 1$, para efeitos práticos em sua aplicação como função de ativação de um neurônio artificial, por exemplo. Assim, para a função de ativação linear retificada, tem-se:\n",
    " $\\frac{d\\varphi(v)}{d\\bf w} = \\frac{d\\varphi(v)}{dv} \\cdot \\frac{dv}{d \\bf w }$. Mas:\n",
    " $\\frac{d\\varphi(v)}{dv} =\n",
    "\\left\\{\\begin{array}{rll}\n",
    "1, & \\hbox{se} & v \\geq 0 \\\\\n",
    "0, & \\hbox{se} & v<0\n",
    "\\end{array}\\right. $. Então:\n",
    "\n",
    " $\\frac{d\\varphi(v)}{d{\\bf w}} =\n",
    "\\left\\{\\begin{array}{rll}\n",
    "\\sum_{i=0}^{N}x_i, & \\hbox{se} & v \\geq 0 \\\\\n",
    "0, & \\hbox{se} & v<0\n",
    "\\end{array}\\right. $"
   ]
  },
  {
   "cell_type": "markdown",
   "metadata": {},
   "source": [
    "## Questão 2-)"
   ]
  },
  {
   "cell_type": "markdown",
   "metadata": {},
   "source": [
    " O problema da otimização consiste na tarefa de se maximizar ou minimizar uma função $f(x)$, variando-se o valor de $x$. Dentre os métodos de otimização conhecidos, encontra-se os métodos baseados no gradiente. Ao se aplicar esses métodos, em certos casos, é necessário que se encontre as derivadas parciais de uma função para a qual as entradas e saídas são vetores. A matriz contendo os resultados dessas derivadas parciais é conhecida como matriz Jacobiana.\n",
    "\n",
    "\n",
    "  Além disso, a derivada de segunda ordem dessas funções com entradas de muitas dimensões podem fornecer informações importantes que fornecem outras conclusões sobre o comportamento da função, de modo a indicar como se deve variar um parâmetro específico que minimize a função. Nesse caso, a matriz que irá armazenar os resultados das derivadas de segunda ordem é conhecida como matriz Hessiana.\n",
    "\n",
    " Os métodos de otimização que utilizam somente o gradiente, como o do gradiente descendente, são conhecidos como algoritmos de otimização de primeira ordem. Já os algoritmos de otimização que utilizam a matriz Hessiana, são conhecidos como algoritmos de otimização de segunda ordem.\n",
    "\n"
   ]
  },
  {
   "cell_type": "markdown",
   "metadata": {},
   "source": [
    "### a) Método do gradiente conjugado\n",
    " O método do gradiente conjudado enquadra-se numa classe de algoritmos de otimização de segunda ordem, conhecidos como algoritmos das direçoes conjugadas. É um método que eficientemente evita o cálculo da matriz Hessiana inversa fazendo a função descender iterativamente em direções conjugadas. Nesse sentido, esse método pretende também resolver um problema do método do gradiente descendente que, por caminhar em direção ao mínimo buscando o custo mais baixo na direção ortogonal ao custo anterior, acaba retrocedendo em certos momentos durante o progresso da otimização. Para tanto, o método do gradiente conjugado, busca direcionar o progresso da otimização para uma direção conjugada com relação a anterior. Ou seja, com isso o progresso da otimização não retrocederá em nenhum momento.  (GODFELLOW, 2016; MIAO, 2002; HAYKIN, 1999).\n",
    "\n",
    " O algoritmo do gradiente conjugado tem sua base formada pelo conceito de busca de linha (line search). No treinamento de uma rede multi-layer perceptron, por exemplo, é necessário se percorrer iterativamente uma sequência de passos ao longo de um espaço de pesos. Um bom algoritmo deve considerar dois aspectos para cada um desses passos: a direção na qual se percorre esse espaço de pesos, como também o quanto se deve mover na direção determinada. Para o algoritmo do gradiente conjugado, devem ser observados nesse processo tanto o gradiente local da função custo, que fornece a idéia de direção, como a determinação de um valor para a taxa de aprendizado, que quantifica a intensidade do movimento. A busca de uma direção particular no espaço dos pesos, está relacionado a obter-se o valor mínimo da função erro naquela direção (MIAO, 2002).\n",
    "\n",
    " Então, ao invés de aplicar ao vetor de pesos sinápticos ${\\bf w}(n)$ um ajuste $\\Delta {\\bf w}(n)$ definido pelo oposto do vetor gradiente local da função custo, como no caso do gradiente descendente do algoritmo backpropagation, onde ${\\bf w}(n) = -\\eta {\\bf g}(n)$, o método do gradiente conjugado realiza a busca da direção em cada passo, aplicando para o ajuste na direção do vetor de pesos, os gradientes conjugados com relação a matriz Hessiana da função custo, bem como aplicando à taxa de aprendizado um valor que minimize a função custo (MIAO, 2002; HAYKIN, 1999).\n",
    "\n",
    " Considere-se, então, durante a iteração $k$ do algoritmo, um vetor de pesos ${\\bf w}_k$, bem como um vetor de busca de uma determinada direção ${\\bf p}_k$ no espaço de pesos. O ajuste do vetor de pesos é dado por:\n",
    "\n",
    "$ {\\bf w}_{k+1} = {\\bf w}_k + \\alpha_k {\\bf p}_k$,\n",
    "\n",
    " onde, $\\alpha_k$ deve ser escolhido de modo a minimizar a função custo (MIAO,2002; HAYKIN,1999; SHEWCHUK, 1994).\n",
    "\n",
    " Assim, considerando-se uma função custo $E({\\bf w})$, expandida em séries de Taylor de segunda ordem  no ponto ${\\bf w}_k$, de modo a ser aproximada por uma função quadrática, e ignorando-se as derivadas de ordem mais elevada, como segue:\n",
    "\n",
    "$E({\\bf w}_k + \\alpha_k {\\bf p}_k) = E({\\bf w})|_{{\\bf w} = {\\bf w}_k} + \\nabla E({\\bf w})^T|_{{\\bf w} = {\\bf w}_k} \\alpha_k {\\bf p}_k + \\frac{1}{2} \\alpha^ 2_k {\\bf p}^ T_k \\nabla^2 E({\\bf w})|_{{\\bf w} = {\\bf w}_k} {\\bf p}_k$,\n",
    "\n",
    " pode-se obter a derivada direcional com respeito a $\\alpha_k$ conforme descrito a seguir:\n",
    "\n",
    " $\\frac{dE({\\bf w}_k + \\alpha_k {\\bf p}_k)}{d\\alpha_k} = \\nabla E({\\bf w})^T|_{{\\bf w} = {\\bf w}_k} {\\bf p}_k + \\alpha_k {\\bf p}^ T_k \\nabla^2 E({\\bf w})|_{{\\bf w} = {\\bf w}_k} {\\bf p}_k$.\n",
    "\n",
    "A partir daí, escolher $ \\alpha_k$ para minimizar a função custo significa igualar esta derivada a zero, o que permite obter:\n",
    "\n",
    "$ \\alpha_k = - \\frac{\\nabla E({\\bf w})^T|_{{\\bf w} = {\\bf w}_k} {\\bf p}_k}{{\\bf p}^ T_k \\nabla^2 E({\\bf w})|_{{\\bf w} = {\\bf w}_k} {\\bf p}_k} = - \\frac{{\\bf g}^T_k {\\bf p}_k}{{\\bf p}^T_k {\\bf H} {\\bf p}_k} $\n",
    "\n",
    " onde, ${\\bf g}^T_k$ é o vetor gradiente local transposto e ${\\bf H}$ é a matriz Hessiana no ponto ${\\bf w}_k$:\n",
    "\n",
    "${\\bf H} = \\nabla^2 E({\\bf w})|_{{\\bf w} = {\\bf w}_k}$\n",
    "\n",
    " Como estamos empregando uma função custo quadrática, em que $\\alpha_k {\\bf p}_k = \\Delta{\\bf w}$, sabe-se que:\n",
    "\n",
    "$\\nabla E({\\bf w}) = \\frac{dE({\\bf w})}{d{\\bf w}} = {\\bf H}{\\bf w}  + {\\bf d}$\n",
    "\n",
    " Daí, para a aplicação do método do gradiente conjugado, considera-se que um conjunto de vetores {${\\bf p}_k$} é dito conjugado com relação a uma matriz Hessiana positiva definida ${\\bf H}$, se e somente se:\n",
    "\n",
    " ${\\bf p}^T_k {\\bf H} {\\bf p}_j = 0$, para $k \\neq j$.\n",
    "\n",
    " Então, a variação no gradiente para a iteração $k+1$ é dada por:\n",
    "\n",
    " $\\Delta{\\bf g}_k = {\\bf g}_{k+1} - {\\bf g}_k = ({\\bf H}{\\bf w}_{k+1}  + {\\bf d}) - ({\\bf H}{\\bf w}_k  + {\\bf d}) = {\\bf H}\\Delta{\\bf w}_k$.\n",
    "\n",
    " Mas, da equação de ajuste dos pesos, sabe-se que $\\Delta{\\bf w}_k = {\\bf w}_{k+1} - {\\bf w}_k = \\alpha_k {\\bf p}_k$.\n",
    "\n",
    " Aplica-se, então, a modificação da condição de conjugação:\n",
    "\n",
    "$\\alpha_k {\\bf p}^T_k {\\bf H} {\\bf p}_j = \\Delta{\\bf w}^T_k {\\bf H} {\\bf p}_j = \\Delta{\\bf g}^T_k  {\\bf p}_j = 0$, para $k \\neq j$.\n",
    "\n",
    " Essa equação traz a informação de que a busca por direções será conjugada se essas direções forem ortogonais às mudanças no gradiente. Além disso, diversos autores chegaram a provar que, caso seja realizada uma sequencia de buscas de direção ao longo de direções conjugadas {${\\bf p}_1, {\\bf p}_2, ..., {\\bf p}_n$}, o mínimo exato de qualquer função quadrática com $n$ parâmetros,  será alcançado em, no máximo, $n$ iterações. Para uma superfície quadrátrica, por exemplo, as direções conjugadas asseguram que o gradiente, a partir da direção anterior, não crescerá em magnitude. Em segundo lugar, elimina-se a necessidade de computar a mariz Hessiana (derivadas de segunda ordem) (MIAO, 2002; HAYKIN, 1999).\n",
    "\n",
    " Dessa forma, exceto para $k=0$, o conjunto dos vetores de direção {${\\bf p}_k$} não é especificado à priori, mas deve ser determinado de um modo sequencial, em sucessivos passos do método de gradiente conjugado. (HAYKIN, 1999).\n",
    "\n",
    "Definindo-se o residual como a direção de descida mais íngreme:\n",
    "\n",
    "${\\bf r}_k = {\\bf d} - {\\bf H} {\\bf w}_k$,\n",
    "\n",
    " Dando-se prosseguimento, na iteração de treinamento $k$, a próxima direção ${\\bf p}_k$ a ser encontrada deve ter a forma de uma combinação linear entre ${\\bf r}_k$ e ${\\bf p}_{k-1}$, como segue:\n",
    "\n",
    "${\\bf p}_k = {\\bf r}_k + \\beta_k {\\bf p}_{k-1}$\n",
    "\n",
    " onde $\\beta_k$ é um coeficiente cuja magnitude controla o quanto da direção anterior, ${\\bf p}_{k-1}$, deve-se considerar para a busca da nova direção a ser tomada. A forma direta de se considerar a conjugação entre as direções acaba envolvendo a matriz Hessiana para o cálculo de $\\beta_k$. Como pode-se observar, obtendo-se esse coeficiente a partir da multiplicação dessa equação anterior por H, realizando-se o produto interno da expressão resultante com ${\\bf p}_{k-1}$, e aplicando-se a propriedade da direção conjugada, resultando em:\n",
    "\n",
    " $\\beta_k = \\frac{{\\bf p}^T_{k-1} {\\bf H} {\\bf r}_k}{{\\bf p}^T_{k-1} {\\bf H} {\\bf p}_{k-1}}$.\n",
    "\n",
    " Contudo, para se evitar o cálculo da matriz Hessiana, pode-se aplicar métodos para o cálculo do coeficiente $\\beta_k$, como: o método de  de Fletcher-Reeves, o de Polak-Ribière, ou o de Hestenes-Stiefel, apresentadas a seguir (GODFELLOW, 2016; MIAO, 2002; HAYKIN, 1999):\n",
    "\n",
    " Hestenes e Stiefel: $\\beta_{k+1} = \\frac{\\Delta{\\bf g}^T_k {\\bf g}_{k+1}}{\\Delta{\\bf g}^T_k {\\bf p}_k}$\n",
    "\n",
    "Fletcher e Reeves: $\\beta_{k+1} = \\frac{{\\bf g}^T_{k+1} {\\bf g}_k}{{\\bf g}^T_k {\\bf g}_k}$\n",
    "\n",
    "Polak e Ribiere: $\\beta_{k+1} = \\frac{\\Delta{\\bf g}^T_k {\\bf g}_{k+1}}{{\\bf g}^T_k {\\bf g}_k}$\n",
    "\n",
    " Para uma função não quadrática é necessário que se tenha um procedimento geral  para que se localize o mínimo ou máximo de uma função não-linear numa direção específica. MIAO (2002) sugere, para tanto, a aplicação de um método que aplique a teoria da otimização não-linear. Em seu trabalho, escolheu utilizar uma combinação entre a comparação entre funções e a busca pela seção de ouro, referidos como localização de intervalo e redução do intervalo. Já o Haykin (1999), sugere que se aproxime a função custo por uma função quadrática, ignorando-se os termos de terceira e mais alta ordens. Além disso, explica que a formulação dos coeficientes $\\beta_k$ e $\\alpha_k$ deve requerer somente a informação do gradiente.\n",
    "\n",
    " No treinamento de redes perceptron de múltiplas camadas, deve-se gerar um vetor de pesos inicial. A aplicação do o método do gradiente conjugado necessita que seja definida a primeira direção ${\\bf p_0}$ de forma arbitrária. E o algoritmo segue, conforme apresentado por MIAO (2002):\n",
    "\n",
    "Passo 0: (Inicialização)\n",
    " Definir $k=1$, $w1$ como um ponto aleatório, o número do ciclo $m=0$, e uma tolerância\n",
    " Passo 1: (Configurar a direção oposta à descida mais íngreme)\n",
    " Calcular ${\\bf g}_k$, definir ${\\bf p}_k = - {\\bf g}_k$.\n",
    " Passo 2: (Busca de linha)\n",
    " Na iteração $k$, determinar o tamanho do passo que minimize a função custo. Ou seja, computar o $\\alpha_k$ utilizando os métodos de busca de linha (localização de intervalo e redução do intervalo).\n",
    " Passo 3: (Atualizar o valor do ponto mínimo a cada iteração)\n",
    " Definir ${\\bf w}_{k+1} = {\\bf w}_k + \\alpha_k {\\bf p}_k$.\n",
    " Passo 4: (Critério de parada)\n",
    " Caso $||{\\bf w}_{k+1} - {\\bf w}_k|| > tolerancia*||{\\bf w}_k||$, vai para o passo 8 do algoritmo, caso contrário, vai para o próximo passo\n",
    " Passo 5: (Procedimento de reinicialização)\n",
    " Se o resto da divisão de $k$ por $n$ form igual a zero, então ${\\bf p}_k = - {\\bf g}_k, m = m+1, k = 1$, e vai para o passo 1. Senão, vai para o próximo passo.\n",
    " Passo 6: (Busca de direção)\n",
    " Determina a nova direção de busca num novo ponto de mínimo,\n",
    " Define ${\\bf p}_{k+1} = - {\\bf g}_{k+1} + \\beta_{k+1}{\\bf p}_k$,\n",
    " onde, $\\beta_{k+1}{\\bf p}_k$ é calculado de acordo com um dos métodos: de Hestenes e Stiefel, de Fletcher e Reeves ou de Polak e Ribiere\n",
    " Passo 7: (Continua o m$^{ésimo}$ ciclo)\n",
    " Define $k=k+1$, e vai para o passo 3\n",
    " Passo 8: (Parada)\n",
    " Define as iterações $m=m*n+k$\n",
    "\n",
    " GODFELLOW (2016), apresenta um algoritmo para o método do gradiente conjugado, de forma mais próxima a uma linguagem de programação. Chama a atenção para o fato de que esse método pode ser ainda aplicado, com algumas modificações, para os casos em que a função custo não é quadrática. Para tanto, os algoritmos do gradiente conjugado não-lineares incluem reinicializações ocasionais quando o algoritmo da busca de linha é reinicializado com um gradiente que permanece inalterado. Cita como exemplo o método do gradiente conjugado escalonado.\n",
    "\n",
    "\n"
   ]
  },
  {
   "cell_type": "markdown",
   "metadata": {},
   "source": [
    "### b) Método de Marquard-Levemberg\n",
    "\n",
    " O Método de Marquard-Levemberg é uma modificação do método de Gauss-Newton. Estederiva-se do método de newton, mas com a limitação de ser usado apenas para a soma de valores quadráticos de uma função. Para o caso de redes neurais, o método pode ser aplicado apenas para a função custo expressa como a soma de erros quadrados  (hakin):\n",
    "\n",
    " $ {\\bf E} = \\frac{1}{2}\\sum_{i=1}^{n} e^2(i) $\n",
    "\n",
    " A vantagem desse método é que não há a necessidade do cálculo de derivadas segundas (da matriz hessiana). Ao invés disso, é realizada uma aproximação de primeira ordem da função $ e(i) $ em torno de $ {\\bf w}(n) $:\n",
    "\n",
    "$ {\\bf e}({\\bf w},i)=e(i) + \\big[\\frac{\\partial{e(i)}} {\\partial{\\bf w}}\\big]_{\\bf{w} =\\bf{w}_k}^T(\\bf{w}\\bf{w(n) $\n",
    "          \n",
    "     \n",
    " Em notação matricial:\n",
    "\n",
    " $ {\\bf e} (n, {\\bf w}) = {\\bf e}(n) + {\\bf J}(n) ({\\bf w} - {\\bf w}(n)) $             \n",
    "\n",
    " Assim calcula-se a norma euclidiana quadrática de $ {\\bf e} (n, {\\bf w})  $ utilizando a equação 2, obtendo o resultado:\n",
    "\n",
    "$ \\frac{1}{2} ||{\\bf e}(n , {\\bf w})||^2 = \\frac{1}{2}||{\\bf e}(n)||^2 + {\\bf e}^T(n){\\bf J}(n)({\\bf w} - {\\bf w}(n)) + \\frac{1}{2}({\\bf w} - {\\bf w}(n))^T {\\bf J}^T(n){\\bf J}(n)({\\bf w} - {\\bf w}(n)) $\n",
    "\n",
    "A norma euclidiana quadrática será minimizada quando seu gradiente for igualado a zero. Fazendo o gradiente e igualando-o a zero: \n",
    "\n",
    " $ {\\bf J}^T {\\bf e}(n) + {\\bf J}^T(n)({\\bf w} - {\\bf w}(n)) $\n",
    "\n",
    "Resolvendo para $\\bf w$ temos:\n",
    "\n",
    " $ {\\bf w} = {\\bf w}(n) - ({\\bf J}^T(n){\\bf J}(n))^{-1}{\\bf J}^T(n){\\bf e}(n) $\n",
    "\n",
    "$ {\\bf w}(n + 1) = {\\bf w}(n) - ({\\bf J}^T(n){\\bf J}(n))^{-1}{\\bf J}^T(n){\\bf e}(n) $\n",
    "\n",
    " Para que esta solução seja possível, é necessario que a matriz $ {\\bf J}^T(n){\\bf J}(n) $ seja sempre não negativa e não singular. O método de Marquard-Levemberg adiciona a matriz diagonal $ \\lambda {\\bf I} $ à matriz $  {\\bf J}^T(n){\\bf J}(n) $, mudando o resultado anterior para: \n",
    "\n",
    "\n",
    "$ {\\bf w}(n + 1) = {\\bf w}(n) - ({\\bf J}^T(n){\\bf J}(n) +  \\lambda {\\bf I} )^{-1}{\\bf J}^T(n){\\bf e}(n) $\n",
    "\n",
    " O parâmetro $ \\lambda $ introduzido influencia tanto na direção quanto no passo do algoritmo. Por tanto, determinar o seu valor constitui parte fundamental do algoritmo. Seu valor não ser muito grande para que o passo não seja muito pequeno e garantir a convergência. Além disso, quando $\\lambda$ tende a zero, ele se aproxima do método de gauss-newton (isso deve acontecer nos estágios finais do algoritmo, à medida em que o número de iterações é aumentado), quando tende ao infinito, ele rotaciona na direção de máxima descida. \n",
    "\n"
   ]
  },
  {
   "cell_type": "markdown",
   "metadata": {},
   "source": [
    "## Questão 6-)\n",
    " No modo por lote, o ajuste de pesos é realizado após a apresentação de todos os exemplos de treinamento de cada epóca. O ajuste de pesos é realizado apenas de época em época. Sendo assim, a equação da função de custo $E_{med}$ torna-se a média dos erros quadráticos devido à todos os exemplos da época de $ n $ exemplos: \n",
    "\n",
    " $ E_{med} = \\frac{1}{2N}\\sum_{n=1}^{n} \\sum e^2(i) $  , \n",
    "\n",
    "onde $ e_j(n) $ é dado por:\n",
    "\n",
    "$ e_j(n)  = d_j(n) - y_j(n) $, \n",
    "\n",
    "onde $ e_j(n)$ se refere ao erro relativo ao neurônio de saida $j$, $d_j$ é a resposta desejada na iteração $n$, e $y_j(n)$ é a saída real na iteração $n$. \n",
    "\n",
    "A correção $ \\Delta w_{ji}$ aplicada à $ w_{ji}$ (peso sináptico que conecta o neurônio i ao neurônio j) é definido pela regra delta: \n",
    "\n",
    " $ \\Delta w_{ji} = - $"
   ]
  },
  {
   "cell_type": "code",
   "execution_count": null,
   "metadata": {},
   "outputs": [],
   "source": []
  },
  {
   "cell_type": "code",
   "execution_count": null,
   "metadata": {},
   "outputs": [],
   "source": []
  }
 ],
 "metadata": {
  "kernelspec": {
   "display_name": "Python 3",
   "language": "python",
   "name": "python3"
  },
  "language_info": {
   "codemirror_mode": {
    "name": "ipython",
    "version": 3
   },
   "file_extension": ".py",
   "mimetype": "text/x-python",
   "name": "python",
   "nbconvert_exporter": "python",
   "pygments_lexer": "ipython3",
   "version": "3.7.0"
  }
 },
 "nbformat": 4,
 "nbformat_minor": 2
}
